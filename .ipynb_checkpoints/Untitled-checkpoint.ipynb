{
 "cells": [
  {
   "cell_type": "code",
   "execution_count": 19,
   "id": "f9b314e8",
   "metadata": {},
   "outputs": [
    {
     "name": "stdout",
     "output_type": "stream",
     "text": [
      "PM\n",
      "19\n",
      "<class 'str'>\n",
      "07:05:45\n"
     ]
    }
   ],
   "source": [
    "s = '07:05:45PM'\n",
    "print(s[8:])\n",
    "j = int(s[:2])\n",
    "\n",
    "# Write your code here\n",
    "if  s[8:] == 'PM' :\n",
    "    j = j+12 \n",
    "    print(j)\n",
    "    var = str(j)\n",
    "    print(type(var))\n",
    "    s.replace(s[:2],var)\n",
    "    print()\n",
    "print(s[:8])"
   ]
  }
 ],
 "metadata": {
  "kernelspec": {
   "display_name": "Python 3",
   "language": "python",
   "name": "python3"
  },
  "language_info": {
   "codemirror_mode": {
    "name": "ipython",
    "version": 3
   },
   "file_extension": ".py",
   "mimetype": "text/x-python",
   "name": "python",
   "nbconvert_exporter": "python",
   "pygments_lexer": "ipython3",
   "version": "3.8.8"
  }
 },
 "nbformat": 4,
 "nbformat_minor": 5
}
